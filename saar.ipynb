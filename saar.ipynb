{
 "cells": [
  {
   "cell_type": "code",
   "execution_count": 52,
   "id": "d75e84ea",
   "metadata": {},
   "outputs": [],
   "source": [
    "import numpy as np\n",
    "import pandas as pd"
   ]
  },
  {
   "cell_type": "code",
   "execution_count": 53,
   "id": "ebb5f3f0",
   "metadata": {},
   "outputs": [],
   "source": [
    "df=pd.read_csv('Saar.csv')"
   ]
  },
  {
   "cell_type": "code",
   "execution_count": 54,
   "id": "69120518",
   "metadata": {},
   "outputs": [
    {
     "data": {
      "text/html": [
       "<div>\n",
       "<style scoped>\n",
       "    .dataframe tbody tr th:only-of-type {\n",
       "        vertical-align: middle;\n",
       "    }\n",
       "\n",
       "    .dataframe tbody tr th {\n",
       "        vertical-align: top;\n",
       "    }\n",
       "\n",
       "    .dataframe thead th {\n",
       "        text-align: right;\n",
       "    }\n",
       "</style>\n",
       "<table border=\"1\" class=\"dataframe\">\n",
       "  <thead>\n",
       "    <tr style=\"text-align: right;\">\n",
       "      <th></th>\n",
       "      <th>Unnamed: 0</th>\n",
       "      <th>tweet</th>\n",
       "      <th>sarcastic</th>\n",
       "      <th>sarcasm</th>\n",
       "      <th>irony</th>\n",
       "      <th>satire</th>\n",
       "      <th>understatement</th>\n",
       "      <th>overstatement</th>\n",
       "      <th>rhetorical_question</th>\n",
       "    </tr>\n",
       "  </thead>\n",
       "  <tbody>\n",
       "    <tr>\n",
       "      <th>0</th>\n",
       "      <td>0</td>\n",
       "      <td>The only thing I got from college is a caffein...</td>\n",
       "      <td>1</td>\n",
       "      <td>0.0</td>\n",
       "      <td>1.0</td>\n",
       "      <td>0.0</td>\n",
       "      <td>0.0</td>\n",
       "      <td>0.0</td>\n",
       "      <td>0.0</td>\n",
       "    </tr>\n",
       "    <tr>\n",
       "      <th>1</th>\n",
       "      <td>1</td>\n",
       "      <td>I love it when professors draw a big question ...</td>\n",
       "      <td>1</td>\n",
       "      <td>1.0</td>\n",
       "      <td>0.0</td>\n",
       "      <td>0.0</td>\n",
       "      <td>0.0</td>\n",
       "      <td>0.0</td>\n",
       "      <td>0.0</td>\n",
       "    </tr>\n",
       "    <tr>\n",
       "      <th>2</th>\n",
       "      <td>2</td>\n",
       "      <td>Remember the hundred emails from companies whe...</td>\n",
       "      <td>1</td>\n",
       "      <td>0.0</td>\n",
       "      <td>1.0</td>\n",
       "      <td>0.0</td>\n",
       "      <td>0.0</td>\n",
       "      <td>0.0</td>\n",
       "      <td>0.0</td>\n",
       "    </tr>\n",
       "    <tr>\n",
       "      <th>3</th>\n",
       "      <td>3</td>\n",
       "      <td>Today my pop-pop told me I was not “forced” to...</td>\n",
       "      <td>1</td>\n",
       "      <td>1.0</td>\n",
       "      <td>0.0</td>\n",
       "      <td>0.0</td>\n",
       "      <td>0.0</td>\n",
       "      <td>0.0</td>\n",
       "      <td>0.0</td>\n",
       "    </tr>\n",
       "    <tr>\n",
       "      <th>4</th>\n",
       "      <td>4</td>\n",
       "      <td>@VolphanCarol @littlewhitty @mysticalmanatee I...</td>\n",
       "      <td>1</td>\n",
       "      <td>1.0</td>\n",
       "      <td>0.0</td>\n",
       "      <td>0.0</td>\n",
       "      <td>0.0</td>\n",
       "      <td>0.0</td>\n",
       "      <td>0.0</td>\n",
       "    </tr>\n",
       "    <tr>\n",
       "      <th>...</th>\n",
       "      <td>...</td>\n",
       "      <td>...</td>\n",
       "      <td>...</td>\n",
       "      <td>...</td>\n",
       "      <td>...</td>\n",
       "      <td>...</td>\n",
       "      <td>...</td>\n",
       "      <td>...</td>\n",
       "      <td>...</td>\n",
       "    </tr>\n",
       "    <tr>\n",
       "      <th>3463</th>\n",
       "      <td>3463</td>\n",
       "      <td>The population spike in Chicago in 9 months is...</td>\n",
       "      <td>0</td>\n",
       "      <td>NaN</td>\n",
       "      <td>NaN</td>\n",
       "      <td>NaN</td>\n",
       "      <td>NaN</td>\n",
       "      <td>NaN</td>\n",
       "      <td>NaN</td>\n",
       "    </tr>\n",
       "    <tr>\n",
       "      <th>3464</th>\n",
       "      <td>3464</td>\n",
       "      <td>You'd think in the second to last English clas...</td>\n",
       "      <td>0</td>\n",
       "      <td>NaN</td>\n",
       "      <td>NaN</td>\n",
       "      <td>NaN</td>\n",
       "      <td>NaN</td>\n",
       "      <td>NaN</td>\n",
       "      <td>NaN</td>\n",
       "    </tr>\n",
       "    <tr>\n",
       "      <th>3465</th>\n",
       "      <td>3465</td>\n",
       "      <td>I’m finally surfacing after a holiday to Scotl...</td>\n",
       "      <td>0</td>\n",
       "      <td>NaN</td>\n",
       "      <td>NaN</td>\n",
       "      <td>NaN</td>\n",
       "      <td>NaN</td>\n",
       "      <td>NaN</td>\n",
       "      <td>NaN</td>\n",
       "    </tr>\n",
       "    <tr>\n",
       "      <th>3466</th>\n",
       "      <td>3466</td>\n",
       "      <td>Couldn't be prouder today. Well done to every ...</td>\n",
       "      <td>0</td>\n",
       "      <td>NaN</td>\n",
       "      <td>NaN</td>\n",
       "      <td>NaN</td>\n",
       "      <td>NaN</td>\n",
       "      <td>NaN</td>\n",
       "      <td>NaN</td>\n",
       "    </tr>\n",
       "    <tr>\n",
       "      <th>3467</th>\n",
       "      <td>3467</td>\n",
       "      <td>Overheard as my 13 year old games with a frien...</td>\n",
       "      <td>0</td>\n",
       "      <td>NaN</td>\n",
       "      <td>NaN</td>\n",
       "      <td>NaN</td>\n",
       "      <td>NaN</td>\n",
       "      <td>NaN</td>\n",
       "      <td>NaN</td>\n",
       "    </tr>\n",
       "  </tbody>\n",
       "</table>\n",
       "<p>3468 rows × 9 columns</p>\n",
       "</div>"
      ],
      "text/plain": [
       "      Unnamed: 0                                              tweet  \\\n",
       "0              0  The only thing I got from college is a caffein...   \n",
       "1              1  I love it when professors draw a big question ...   \n",
       "2              2  Remember the hundred emails from companies whe...   \n",
       "3              3  Today my pop-pop told me I was not “forced” to...   \n",
       "4              4  @VolphanCarol @littlewhitty @mysticalmanatee I...   \n",
       "...          ...                                                ...   \n",
       "3463        3463  The population spike in Chicago in 9 months is...   \n",
       "3464        3464  You'd think in the second to last English clas...   \n",
       "3465        3465  I’m finally surfacing after a holiday to Scotl...   \n",
       "3466        3466  Couldn't be prouder today. Well done to every ...   \n",
       "3467        3467  Overheard as my 13 year old games with a frien...   \n",
       "\n",
       "      sarcastic  sarcasm  irony  satire  understatement  overstatement  \\\n",
       "0             1      0.0    1.0     0.0             0.0            0.0   \n",
       "1             1      1.0    0.0     0.0             0.0            0.0   \n",
       "2             1      0.0    1.0     0.0             0.0            0.0   \n",
       "3             1      1.0    0.0     0.0             0.0            0.0   \n",
       "4             1      1.0    0.0     0.0             0.0            0.0   \n",
       "...         ...      ...    ...     ...             ...            ...   \n",
       "3463          0      NaN    NaN     NaN             NaN            NaN   \n",
       "3464          0      NaN    NaN     NaN             NaN            NaN   \n",
       "3465          0      NaN    NaN     NaN             NaN            NaN   \n",
       "3466          0      NaN    NaN     NaN             NaN            NaN   \n",
       "3467          0      NaN    NaN     NaN             NaN            NaN   \n",
       "\n",
       "      rhetorical_question  \n",
       "0                     0.0  \n",
       "1                     0.0  \n",
       "2                     0.0  \n",
       "3                     0.0  \n",
       "4                     0.0  \n",
       "...                   ...  \n",
       "3463                  NaN  \n",
       "3464                  NaN  \n",
       "3465                  NaN  \n",
       "3466                  NaN  \n",
       "3467                  NaN  \n",
       "\n",
       "[3468 rows x 9 columns]"
      ]
     },
     "execution_count": 54,
     "metadata": {},
     "output_type": "execute_result"
    }
   ],
   "source": [
    "df"
   ]
  },
  {
   "cell_type": "code",
   "execution_count": 55,
   "id": "e1f3b240",
   "metadata": {},
   "outputs": [
    {
     "data": {
      "text/plain": [
       "Index(['Unnamed: 0', 'tweet', 'sarcastic', 'sarcasm', 'irony', 'satire',\n",
       "       'understatement', 'overstatement', 'rhetorical_question'],\n",
       "      dtype='object')"
      ]
     },
     "execution_count": 55,
     "metadata": {},
     "output_type": "execute_result"
    }
   ],
   "source": [
    "df.columns"
   ]
  },
  {
   "cell_type": "code",
   "execution_count": 56,
   "id": "93368a10",
   "metadata": {},
   "outputs": [
    {
     "name": "stdout",
     "output_type": "stream",
     "text": [
      "<class 'pandas.core.frame.DataFrame'>\n",
      "RangeIndex: 3468 entries, 0 to 3467\n",
      "Data columns (total 9 columns):\n",
      " #   Column               Non-Null Count  Dtype  \n",
      "---  ------               --------------  -----  \n",
      " 0   Unnamed: 0           3468 non-null   int64  \n",
      " 1   tweet                3467 non-null   object \n",
      " 2   sarcastic            3468 non-null   int64  \n",
      " 3   sarcasm              867 non-null    float64\n",
      " 4   irony                867 non-null    float64\n",
      " 5   satire               867 non-null    float64\n",
      " 6   understatement       867 non-null    float64\n",
      " 7   overstatement        867 non-null    float64\n",
      " 8   rhetorical_question  867 non-null    float64\n",
      "dtypes: float64(6), int64(2), object(1)\n",
      "memory usage: 244.0+ KB\n"
     ]
    }
   ],
   "source": [
    "df.info()\n"
   ]
  },
  {
   "cell_type": "code",
   "execution_count": 57,
   "id": "a7222cdc",
   "metadata": {},
   "outputs": [],
   "source": [
    "df['tweet'] = df['tweet'].astype(str)"
   ]
  },
  {
   "cell_type": "code",
   "execution_count": 58,
   "id": "24380161",
   "metadata": {},
   "outputs": [],
   "source": [
    "import re\n",
    "def preprocess(text):\n",
    "    text = text.lower()\n",
    "    text = re.sub(r\"@[A-Za-z0-9]+\", ' ', text)\n",
    "    text = re.sub(r\"https?://[A-Za-z0-9./]+\", ' ', text)\n",
    "    text = re.sub(r\"[^a-zA-Z0-9]\", ' ', text)\n",
    "    text = re.sub(r\" +\", ' ', text)\n",
    "    return text"
   ]
  },
  {
   "cell_type": "code",
   "execution_count": 59,
   "id": "da7d9e49",
   "metadata": {},
   "outputs": [],
   "source": [
    "df['tweet'] = df['tweet'].apply(preprocess)"
   ]
  },
  {
   "cell_type": "code",
   "execution_count": 60,
   "id": "d4508bd9",
   "metadata": {},
   "outputs": [
    {
     "data": {
      "text/plain": [
       "array(['the only thing i got from college is a caffeine addiction',\n",
       "       'i love it when professors draw a big question mark next to my answer on an exam because i m always like yeah i don t either ',\n",
       "       'remember the hundred emails from companies when covid started getting real i ve gotten three in regards to support for protests and only shared helpful links and actually said black lives matter we love capitalism ',\n",
       "       ...,\n",
       "       'i m finally surfacing after a holiday to scotland and a difficult few days with an ill child hopefully on the mend now happy september all smell the pencil shavings and that new notebook aroma 1st sept has always seemed a lot more promising than 1st january',\n",
       "       'couldn t be prouder today well done to every student who got their gcses this morning after 18 months that would challenge anyone in history at any stage in their lives the teachers did an amazing job gcseresults2021 gcseresults',\n",
       "       'overheard as my 13 year old games with a friend you smell like tartare sauce montypythonesquedisses'],\n",
       "      dtype=object)"
      ]
     },
     "execution_count": 60,
     "metadata": {},
     "output_type": "execute_result"
    }
   ],
   "source": [
    "df['tweet'].values"
   ]
  },
  {
   "cell_type": "code",
   "execution_count": 61,
   "id": "034ac64d",
   "metadata": {},
   "outputs": [
    {
     "data": {
      "text/plain": [
       "sarcastic\n",
       "0    2601\n",
       "1     867\n",
       "Name: count, dtype: int64"
      ]
     },
     "execution_count": 61,
     "metadata": {},
     "output_type": "execute_result"
    }
   ],
   "source": [
    "df[\"sarcastic\"].value_counts()"
   ]
  },
  {
   "cell_type": "code",
   "execution_count": 62,
   "id": "a9b1a7a2",
   "metadata": {},
   "outputs": [],
   "source": [
    "# Balance the Dataset\n",
    "from imblearn.over_sampling import RandomOverSampler\n",
    "\n",
    "ros = RandomOverSampler(random_state=42)\n",
    "\n",
    "balanced_text_df, balanced_labels = ros.fit_resample(pd.DataFrame(df['tweet']), df['sarcastic'])\n",
    "balanced_text = balanced_text_df['tweet'].values  # Extract tweets back as 1D array\n",
    "\n",
    "\n",
    " \n",
    "\n",
    "\n"
   ]
  },
  {
   "cell_type": "code",
   "execution_count": 63,
   "id": "6f6c50d7",
   "metadata": {},
   "outputs": [],
   "source": [
    "from sklearn.model_selection import train_test_split\n",
    "\n",
    "X_train, X_test, y_train, y_test = train_test_split(\n",
    "    balanced_text, balanced_labels,\n",
    "    test_size=0.2, random_state=42, stratify=balanced_labels\n",
    ")"
   ]
  },
  {
   "cell_type": "code",
   "execution_count": 64,
   "id": "bc73b4ac",
   "metadata": {},
   "outputs": [
    {
     "data": {
      "text/plain": [
       "(4161,)"
      ]
     },
     "execution_count": 64,
     "metadata": {},
     "output_type": "execute_result"
    }
   ],
   "source": [
    "X_train.shape"
   ]
  },
  {
   "cell_type": "code",
   "execution_count": 65,
   "id": "a0a840bc",
   "metadata": {},
   "outputs": [
    {
     "data": {
      "text/plain": [
       "(4161,)"
      ]
     },
     "execution_count": 65,
     "metadata": {},
     "output_type": "execute_result"
    }
   ],
   "source": [
    "y_train.shape"
   ]
  },
  {
   "cell_type": "code",
   "execution_count": 66,
   "id": "86ffceb3",
   "metadata": {},
   "outputs": [],
   "source": [
    "import tensorflow as tf\n",
    "from transformers import TFDistilBertForSequenceClassification, DistilBertTokenizer, create_optimizer"
   ]
  },
  {
   "cell_type": "code",
   "execution_count": 67,
   "id": "8cdc10b5",
   "metadata": {},
   "outputs": [
    {
     "name": "stderr",
     "output_type": "stream",
     "text": [
      "Some weights of the PyTorch model were not used when initializing the TF 2.0 model TFDistilBertForSequenceClassification: ['vocab_layer_norm.bias', 'vocab_layer_norm.weight', 'vocab_transform.weight', 'vocab_projector.bias', 'vocab_transform.bias']\n",
      "- This IS expected if you are initializing TFDistilBertForSequenceClassification from a PyTorch model trained on another task or with another architecture (e.g. initializing a TFBertForSequenceClassification model from a BertForPreTraining model).\n",
      "- This IS NOT expected if you are initializing TFDistilBertForSequenceClassification from a PyTorch model that you expect to be exactly identical (e.g. initializing a TFBertForSequenceClassification model from a BertForSequenceClassification model).\n",
      "Some weights or buffers of the TF 2.0 model TFDistilBertForSequenceClassification were not initialized from the PyTorch model and are newly initialized: ['pre_classifier.weight', 'pre_classifier.bias', 'classifier.weight', 'classifier.bias']\n",
      "You should probably TRAIN this model on a down-stream task to be able to use it for predictions and inference.\n"
     ]
    }
   ],
   "source": [
    "model = TFDistilBertForSequenceClassification.from_pretrained('distilbert-base-uncased', num_labels=2)\n",
    "\n",
    "tokenizer = DistilBertTokenizer.from_pretrained('distilbert-base-uncased') "
   ]
  },
  {
   "cell_type": "markdown",
   "id": "1dac6e70",
   "metadata": {},
   "source": [
    "# Tokenization and Padding "
   ]
  },
  {
   "cell_type": "code",
   "execution_count": 68,
   "id": "5c66570f",
   "metadata": {},
   "outputs": [],
   "source": [
    "max_len = 63\n",
    "train_encodings = tokenizer(\n",
    "    list(X_train), truncation=True, padding='max_length',\n",
    "    max_length=max_len, return_tensors='tf'\n",
    ")\n",
    "\n",
    "test_encodings = tokenizer(\n",
    "    list(X_test), truncation=True, padding='max_length',\n",
    "    max_length=max_len, return_tensors='tf'\n",
    ")"
   ]
  },
  {
   "cell_type": "code",
   "execution_count": 69,
   "id": "8fb7f938",
   "metadata": {},
   "outputs": [],
   "source": [
    "# Convert labels to array\n",
    "y_train = np.array(y_train)\n",
    "y_test = np.array(y_test)"
   ]
  },
  {
   "cell_type": "code",
   "execution_count": 70,
   "id": "1b131a1b",
   "metadata": {},
   "outputs": [],
   "source": [
    "train_dataset = tf.data.Dataset.from_tensor_slices((\n",
    "    dict(train_encodings), y_train\n",
    ")).shuffle(1000).batch(16)\n",
    "\n",
    "test_dataset = tf.data.Dataset.from_tensor_slices((\n",
    "    dict(test_encodings), y_test\n",
    ")).batch(16)"
   ]
  },
  {
   "cell_type": "code",
   "execution_count": 71,
   "id": "413430a1",
   "metadata": {},
   "outputs": [
    {
     "name": "stderr",
     "output_type": "stream",
     "text": [
      "WARNING:absl:At this time, the v2.11+ optimizer `tf.keras.optimizers.Adam` runs slowly on M1/M2 Macs, please use the legacy TF-Keras optimizer instead, located at `tf.keras.optimizers.legacy.Adam`.\n"
     ]
    }
   ],
   "source": [
    "# Create optimizer\n",
    "num_train_steps = int(len(X_train) / 16 * 10)  # batch_size=16, epochs=10\n",
    "optimizer, lr_schedule = create_optimizer(\n",
    "    init_lr=2e-5,\n",
    "    num_train_steps=num_train_steps,\n",
    "    num_warmup_steps=0\n",
    ")"
   ]
  },
  {
   "cell_type": "code",
   "execution_count": 72,
   "id": "09d25d35",
   "metadata": {},
   "outputs": [],
   "source": [
    "# Compile\n",
    "model.compile(\n",
    "    optimizer=optimizer,\n",
    "    loss=tf.keras.losses.SparseCategoricalCrossentropy(from_logits=True),\n",
    "    metrics=['accuracy']\n",
    ")"
   ]
  },
  {
   "cell_type": "code",
   "execution_count": 73,
   "id": "c807e794",
   "metadata": {},
   "outputs": [
    {
     "name": "stdout",
     "output_type": "stream",
     "text": [
      "Epoch 1/10\n",
      "261/261 [==============================] - 393s 1s/step - loss: 0.6491 - accuracy: 0.6013 - val_loss: 0.5500 - val_accuracy: 0.7339\n",
      "Epoch 2/10\n",
      "261/261 [==============================] - 414s 2s/step - loss: 0.3543 - accuracy: 0.8532 - val_loss: 0.3354 - val_accuracy: 0.8665\n",
      "Epoch 3/10\n",
      "261/261 [==============================] - 415s 2s/step - loss: 0.1204 - accuracy: 0.9615 - val_loss: 0.3304 - val_accuracy: 0.8982\n",
      "Epoch 4/10\n",
      "261/261 [==============================] - 405s 2s/step - loss: 0.0434 - accuracy: 0.9875 - val_loss: 0.5849 - val_accuracy: 0.8377\n",
      "Epoch 5/10\n",
      "261/261 [==============================] - 419s 2s/step - loss: 0.0215 - accuracy: 0.9942 - val_loss: 0.4787 - val_accuracy: 0.8790\n",
      "Epoch 6/10\n",
      "261/261 [==============================] - 396s 2s/step - loss: 0.0175 - accuracy: 0.9942 - val_loss: 0.4367 - val_accuracy: 0.8915\n",
      "Epoch 7/10\n",
      "261/261 [==============================] - 415s 2s/step - loss: 0.0096 - accuracy: 0.9969 - val_loss: 0.4376 - val_accuracy: 0.8991\n",
      "Epoch 8/10\n",
      "261/261 [==============================] - 425s 2s/step - loss: 0.0084 - accuracy: 0.9971 - val_loss: 0.5112 - val_accuracy: 0.8847\n",
      "Epoch 9/10\n",
      "261/261 [==============================] - 454s 2s/step - loss: 0.0080 - accuracy: 0.9969 - val_loss: 0.4903 - val_accuracy: 0.8895\n",
      "Epoch 10/10\n",
      "261/261 [==============================] - 454s 2s/step - loss: 0.0070 - accuracy: 0.9976 - val_loss: 0.4475 - val_accuracy: 0.9011\n"
     ]
    }
   ],
   "source": [
    "history = model.fit(\n",
    "    train_dataset,\n",
    "    epochs=10,\n",
    "    validation_data=test_dataset\n",
    ")"
   ]
  },
  {
   "cell_type": "code",
   "execution_count": 75,
   "id": "db477dec",
   "metadata": {},
   "outputs": [
    {
     "name": "stdout",
     "output_type": "stream",
     "text": [
      "66/66 [==============================] - 26s 377ms/step\n"
     ]
    }
   ],
   "source": [
    "\n",
    "# Evaluate\n",
    "preds = model.predict(test_dataset).logits\n",
    "pred_labels = tf.argmax(preds, axis=1).numpy()\n"
   ]
  },
  {
   "cell_type": "code",
   "execution_count": 76,
   "id": "c83f3168",
   "metadata": {},
   "outputs": [],
   "source": [
    "from sklearn.metrics import accuracy_score"
   ]
  },
  {
   "cell_type": "code",
   "execution_count": 77,
   "id": "f80d75d9",
   "metadata": {},
   "outputs": [
    {
     "data": {
      "text/plain": [
       "array([0, 1, 1, ..., 1, 0, 1])"
      ]
     },
     "execution_count": 77,
     "metadata": {},
     "output_type": "execute_result"
    }
   ],
   "source": [
    "pred_labels"
   ]
  },
  {
   "cell_type": "code",
   "execution_count": 78,
   "id": "3bbfebc5",
   "metadata": {},
   "outputs": [],
   "source": [
    "from sklearn.metrics import classification_report,confusion_matrix"
   ]
  },
  {
   "cell_type": "code",
   "execution_count": 79,
   "id": "6c06cc98",
   "metadata": {},
   "outputs": [
    {
     "name": "stdout",
     "output_type": "stream",
     "text": [
      "              precision    recall  f1-score   support\n",
      "\n",
      "           0       0.94      0.85      0.90       521\n",
      "           1       0.87      0.95      0.91       520\n",
      "\n",
      "    accuracy                           0.90      1041\n",
      "   macro avg       0.90      0.90      0.90      1041\n",
      "weighted avg       0.90      0.90      0.90      1041\n",
      "\n"
     ]
    }
   ],
   "source": [
    "print(classification_report(y_test, pred_labels))"
   ]
  },
  {
   "cell_type": "code",
   "execution_count": 80,
   "id": "b7fd12e9",
   "metadata": {},
   "outputs": [
    {
     "data": {
      "text/plain": [
       "array([[444,  77],\n",
       "       [ 26, 494]])"
      ]
     },
     "execution_count": 80,
     "metadata": {},
     "output_type": "execute_result"
    }
   ],
   "source": [
    "confusion_matrix(y_test, pred_labels)"
   ]
  },
  {
   "cell_type": "code",
   "execution_count": 81,
   "id": "58c3a4ff",
   "metadata": {},
   "outputs": [
    {
     "data": {
      "image/png": "[encoded data removed]",
      "text/plain": [
       "<Figure size 1200x500 with 2 Axes>"
      ]
     },
     "metadata": {},
     "output_type": "display_data"
    }
   ],
   "source": [
    "import matplotlib.pyplot as plt\n",
    "\n",
    "# 📉 Plot Loss\n",
    "plt.figure(figsize=(12, 5))\n",
    "plt.subplot(1, 2, 1)\n",
    "plt.plot(history.history['loss'], label='Training Loss', color='blue')\n",
    "plt.plot(history.history['val_loss'], label='Validation Loss', color='orange')\n",
    "plt.title('Loss over Epochs')\n",
    "plt.xlabel('Epoch')\n",
    "plt.ylabel('Loss')\n",
    "plt.legend()\n",
    "plt.grid(True)\n",
    "\n",
    "# 📈 Plot Accuracy\n",
    "plt.subplot(1, 2, 2)\n",
    "plt.plot(history.history['accuracy'], label='Training Accuracy', color='blue')\n",
    "plt.plot(history.history['val_accuracy'], label='Validation Accuracy', color='orange')\n",
    "plt.title('Accuracy over Epochs')\n",
    "plt.xlabel('Epoch')\n",
    "plt.ylabel('Accuracy')\n",
    "plt.legend()\n",
    "plt.grid(True)\n",
    "\n",
    "plt.tight_layout()\n",
    "plt.show()"
   ]
  },
  {
   "cell_type": "code",
   "execution_count": 82,
   "id": "a635a23c",
   "metadata": {},
   "outputs": [
    {
     "data": {
      "text/plain": [
       "('saved_model/sarcasm_distilbert/tokenizer_config.json',\n",
       " 'saved_model/sarcasm_distilbert/special_tokens_map.json',\n",
       " 'saved_model/sarcasm_distilbert/vocab.txt',\n",
       " 'saved_model/sarcasm_distilbert/added_tokens.json')"
      ]
     },
     "execution_count": 82,
     "metadata": {},
     "output_type": "execute_result"
    }
   ],
   "source": [
    "# Save model and tokenizer\n",
    "model.save_pretrained('saved_model/sarcasm_distilbert')\n",
    "tokenizer.save_pretrained('saved_model/sarcasm_distilbert')"
   ]
  },
  {
   "cell_type": "code",
   "execution_count": 83,
   "id": "cd8ff49c",
   "metadata": {},
   "outputs": [
    {
     "name": "stderr",
     "output_type": "stream",
     "text": [
      "Some layers from the model checkpoint at saved_model/sarcasm_distilbert were not used when initializing TFDistilBertForSequenceClassification: ['dropout_39']\n",
      "- This IS expected if you are initializing TFDistilBertForSequenceClassification from the checkpoint of a model trained on another task or with another architecture (e.g. initializing a BertForSequenceClassification model from a BertForPreTraining model).\n",
      "- This IS NOT expected if you are initializing TFDistilBertForSequenceClassification from the checkpoint of a model that you expect to be exactly identical (initializing a BertForSequenceClassification model from a BertForSequenceClassification model).\n",
      "Some layers of TFDistilBertForSequenceClassification were not initialized from the model checkpoint at saved_model/sarcasm_distilbert and are newly initialized: ['dropout_59']\n",
      "You should probably TRAIN this model on a down-stream task to be able to use it for predictions and inference.\n"
     ]
    }
   ],
   "source": [
    "# Load your fine-tuned model and tokenizer\n",
    "model = TFDistilBertForSequenceClassification.from_pretrained('saved_model/sarcasm_distilbert')\n",
    "tokenizer = DistilBertTokenizer.from_pretrained('saved_model/sarcasm_distilbert')\n",
    "\n",
    "# Function to check sarcasm\n",
    "def detect_sarcasm(text):\n",
    "    # Preprocess and tokenize\n",
    "    inputs = tokenizer(text, return_tensors=\"tf\", truncation=True, padding=True, max_length=64)\n",
    "\n",
    "    # Get predictions\n",
    "    outputs = model(inputs)\n",
    "    logits = outputs.logits\n",
    "\n",
    "    # Apply softmax to get probabilities\n",
    "    probs = tf.nn.softmax(logits, axis=1).numpy()\n",
    "\n",
    "    # Get predicted label (0 or 1)\n",
    "    pred_label = np.argmax(probs, axis=1)[0]\n",
    "\n",
    "    # Map label to human-readable output\n",
    "    label_text = \"Sarcastic 🤨\" if pred_label == 1 else \"Not Sarcastic 🙂\"\n",
    "    confidence = probs[0][pred_label]\n",
    "\n",
    "    print(f\"\\n📝 Text: {text}\")\n",
    "    print(f\"🔎 Prediction: {label_text} (Confidence: {confidence:.2f})\")\n",
    "\n",
    "    return pred_label, confidence"
   ]
  },
  {
   "cell_type": "code",
   "execution_count": 93,
   "id": "e03eed2c",
   "metadata": {},
   "outputs": [
    {
     "name": "stdout",
     "output_type": "stream",
     "text": [
      "\n",
      "📝 Text: Waking up early makes me feel productive.\n",
      "🔎 Prediction: Not Sarcastic 🙂 (Confidence: 1.00)\n",
      "\n",
      "📝 Text: Sure, because turning in the project late will definitely impress the boss\n",
      "🔎 Prediction: Sarcastic 🤨 (Confidence: 1.00)\n"
     ]
    },
    {
     "data": {
      "text/plain": [
       "(np.int64(1), np.float32(0.99975044))"
      ]
     },
     "execution_count": 93,
     "metadata": {},
     "output_type": "execute_result"
    }
   ],
   "source": [
    "detect_sarcasm(\"Waking up early makes me feel productive.\")\n",
    "detect_sarcasm(\"Sure, because turning in the project late will definitely impress the boss\")"
   ]
  },
  {
   "cell_type": "code",
   "execution_count": null,
   "id": "a1e0b1f7",
   "metadata": {},
   "outputs": [],
   "source": []
  },
  {
   "cell_type": "code",
   "execution_count": null,
   "id": "803fee08",
   "metadata": {},
   "outputs": [],
   "source": []
  },
  {
   "cell_type": "code",
   "execution_count": null,
   "id": "7340fbfe",
   "metadata": {},
   "outputs": [],
   "source": []
  },
  {
   "cell_type": "code",
   "execution_count": null,
   "id": "678cee88",
   "metadata": {},
   "outputs": [],
   "source": []
  },
  {
   "cell_type": "code",
   "execution_count": null,
   "id": "2378db36",
   "metadata": {},
   "outputs": [],
   "source": []
  },
  {
   "cell_type": "code",
   "execution_count": null,
   "id": "00836994",
   "metadata": {},
   "outputs": [],
   "source": []
  },
  {
   "cell_type": "code",
   "execution_count": null,
   "id": "e7de3dc2",
   "metadata": {},
   "outputs": [],
   "source": []
  },
  {
   "cell_type": "code",
   "execution_count": null,
   "id": "b2230c74",
   "metadata": {},
   "outputs": [],
   "source": []
  }
 ],
 "metadata": {
  "kernelspec": {
   "display_name": "dl",
   "language": "python",
   "name": "python3"
  },
  "language_info": {
   "codemirror_mode": {
    "name": "ipython",
    "version": 3
   },
   "file_extension": ".py",
   "mimetype": "text/x-python",
   "name": "python",
   "nbconvert_exporter": "python",
   "pygments_lexer": "ipython3",
   "version": "3.10.17"
  }
 },
 "nbformat": 4,
 "nbformat_minor": 5
}
